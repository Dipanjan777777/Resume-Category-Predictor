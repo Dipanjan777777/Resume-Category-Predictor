{
 "cells": [
  {
   "cell_type": "markdown",
   "id": "3dedda93",
   "metadata": {},
   "source": [
    "## Prediction "
   ]
  },
  {
   "cell_type": "code",
   "execution_count": 1,
   "id": "773cdadf",
   "metadata": {},
   "outputs": [],
   "source": [
    "# Import required libraries\n",
    "import pickle\n",
    "import re\n",
    "import numpy as np\n",
    "\n",
    "# Load the saved components\n",
    "tfidf = pickle.load(open('tfidf.pkl', 'rb'))\n",
    "svc_model = pickle.load(open('clf.pkl', 'rb'))\n",
    "le = pickle.load(open('encoder.pkl', 'rb'))"
   ]
  },
  {
   "cell_type": "code",
   "execution_count": 2,
   "id": "37f467be",
   "metadata": {},
   "outputs": [
    {
     "name": "stderr",
     "output_type": "stream",
     "text": [
      "<>:3: SyntaxWarning: invalid escape sequence '\\S'\n",
      "<>:5: SyntaxWarning: invalid escape sequence '\\S'\n",
      "<>:6: SyntaxWarning: invalid escape sequence '\\S'\n",
      "<>:7: SyntaxWarning: invalid escape sequence '\\]'\n",
      "<>:9: SyntaxWarning: invalid escape sequence '\\s'\n",
      "<>:3: SyntaxWarning: invalid escape sequence '\\S'\n",
      "<>:5: SyntaxWarning: invalid escape sequence '\\S'\n",
      "<>:6: SyntaxWarning: invalid escape sequence '\\S'\n",
      "<>:7: SyntaxWarning: invalid escape sequence '\\]'\n",
      "<>:9: SyntaxWarning: invalid escape sequence '\\s'\n",
      "C:\\Users\\ASUS\\AppData\\Local\\Temp\\ipykernel_11028\\192456955.py:3: SyntaxWarning: invalid escape sequence '\\S'\n",
      "  cleanText = re.sub('http\\S+\\s', ' ', txt)\n",
      "C:\\Users\\ASUS\\AppData\\Local\\Temp\\ipykernel_11028\\192456955.py:5: SyntaxWarning: invalid escape sequence '\\S'\n",
      "  cleanText = re.sub('#\\S+\\s', ' ', cleanText)\n",
      "C:\\Users\\ASUS\\AppData\\Local\\Temp\\ipykernel_11028\\192456955.py:6: SyntaxWarning: invalid escape sequence '\\S'\n",
      "  cleanText = re.sub('@\\S+', '  ', cleanText)\n",
      "C:\\Users\\ASUS\\AppData\\Local\\Temp\\ipykernel_11028\\192456955.py:7: SyntaxWarning: invalid escape sequence '\\]'\n",
      "  cleanText = re.sub('[%s]' % re.escape(\"\"\"!\"#$%&'()*+,-./:;<=>?@[\\]^_`{|}~\"\"\"), ' ', cleanText)\n",
      "C:\\Users\\ASUS\\AppData\\Local\\Temp\\ipykernel_11028\\192456955.py:9: SyntaxWarning: invalid escape sequence '\\s'\n",
      "  cleanText = re.sub('\\s+', ' ', cleanText)\n"
     ]
    }
   ],
   "source": [
    "# Define the cleanResume function (same as used in training)\n",
    "def cleanResume(txt):\n",
    "    cleanText = re.sub('http\\S+\\s', ' ', txt)\n",
    "    cleanText = re.sub('RT|cc', ' ', cleanText)\n",
    "    cleanText = re.sub('#\\S+\\s', ' ', cleanText)\n",
    "    cleanText = re.sub('@\\S+', '  ', cleanText)  \n",
    "    cleanText = re.sub('[%s]' % re.escape(\"\"\"!\"#$%&'()*+,-./:;<=>?@[\\]^_`{|}~\"\"\"), ' ', cleanText)\n",
    "    cleanText = re.sub(r'[^\\x00-\\x7f]', ' ', cleanText) \n",
    "    cleanText = re.sub('\\s+', ' ', cleanText)\n",
    "    return cleanText"
   ]
  },
  {
   "cell_type": "code",
   "execution_count": 3,
   "id": "5439d49c",
   "metadata": {},
   "outputs": [
    {
     "name": "stdout",
     "output_type": "stream",
     "text": [
      "Testing saved files...\n",
      "==============================\n",
      "✅ All files loaded successfully!\n",
      "\n",
      "🧪 Test Prediction:\n",
      "   Sample Resume: 'Experienced software engineer with Python, machine learning, and data analysis skills'\n",
      "   Predicted Category: Data Science\n",
      "\n",
      "✅ Model deployment ready!\n"
     ]
    }
   ],
   "source": [
    "# Test loading the saved files to ensure they work properly\n",
    "print(\"Testing saved files...\")\n",
    "print(\"=\"*30)\n",
    "\n",
    "try:\n",
    "    print(\"✅ All files loaded successfully!\")\n",
    "    \n",
    "    # Test with a sample resume\n",
    "    sample_resume = \"Experienced software engineer with Python, machine learning, and data analysis skills\"\n",
    "    \n",
    "    # Preprocess the sample\n",
    "    cleaned_sample = cleanResume(sample_resume)\n",
    "    vectorized_sample = tfidf.transform([cleaned_sample])\n",
    "    vectorized_sample = vectorized_sample.toarray()\n",
    "    \n",
    "    # Make prediction\n",
    "    prediction = svc_model.predict(vectorized_sample)\n",
    "    predicted_category = le.inverse_transform(prediction)[0]\n",
    "    \n",
    "    print(f\"\\n🧪 Test Prediction:\")\n",
    "    print(f\"   Sample Resume: '{sample_resume}'\")\n",
    "    print(f\"   Predicted Category: {predicted_category}\")\n",
    "    \n",
    "    print(f\"\\n✅ Model deployment ready!\")\n",
    "    \n",
    "except Exception as e:\n",
    "    print(f\"❌ Error loading files: {e}\")"
   ]
  },
  {
   "cell_type": "code",
   "execution_count": 4,
   "id": "f5825d92",
   "metadata": {},
   "outputs": [],
   "source": [
    "# Function to predict the category of a resume\n",
    "def pred(input_resume):\n",
    "    # Preprocess the input text (e.g., cleaning, etc.)\n",
    "    cleaned_text = cleanResume(input_resume) \n",
    "\n",
    "    # Vectorize the cleaned text using the same TF-IDF vectorizer used during training\n",
    "    vectorized_text = tfidf.transform([cleaned_text])\n",
    "    \n",
    "    # Convert sparse matrix to dense\n",
    "    vectorized_text = vectorized_text.toarray()\n",
    "\n",
    "    # Prediction\n",
    "    predicted_category = svc_model.predict(vectorized_text)\n",
    "\n",
    "    # get name of predicted category\n",
    "    predicted_category_name = le.inverse_transform(predicted_category)\n",
    "\n",
    "    return predicted_category_name[0]  # Return the category name"
   ]
  },
  {
   "cell_type": "code",
   "execution_count": 5,
   "id": "68a8fdbe",
   "metadata": {},
   "outputs": [
    {
     "name": "stdout",
     "output_type": "stream",
     "text": [
      "🔍 TESTING RESUME EXAMPLES\n",
      "==================================================\n",
      "Data Science Resume:\n",
      "Prediction: Data Science\n",
      "\n",
      "Health and Fitness Resume:\n",
      "Prediction: Health and fitness\n",
      "\n",
      "Network Security Resume:\n",
      "Prediction: Network Security Engineer\n"
     ]
    }
   ],
   "source": [
    "# Test with multiple resume examples\n",
    "myresume = \"\"\"I am a data scientist specializing in machine\n",
    "learning, deep learning, and computer vision. With\n",
    "a strong background in mathematics, statistics,\n",
    "and programming, I am passionate about\n",
    "uncovering hidden patterns and insights in data.\n",
    "I have extensive experience in developing\n",
    "predictive models, implementing deep learning\n",
    "algorithms, and designing computer vision\n",
    "systems. My technical skills include proficiency in\n",
    "Python, Sklearn, TensorFlow, and PyTorch.\"\"\"\n",
    "\n",
    "print(\"🔍 TESTING RESUME EXAMPLES\")\n",
    "print(\"=\"*50)\n",
    "\n",
    "print(\"Data Science Resume:\")\n",
    "result = pred(myresume)\n",
    "print(f\"Prediction: {result}\")\n",
    "\n",
    "myresume = \"\"\"\n",
    "Jane Smith is a certified personal trainer with over 5 years of experience in helping individuals achieve their fitness goals. Specializing in weight loss, strength training, and sports conditioning, Jane has developed personalized workout routines for clients of all ages and fitness levels. She has extensive knowledge in nutrition and exercise science, and uses this to create holistic health and fitness programs that are tailored to individual needs.\"\"\"\n",
    "\n",
    "print(\"\\nHealth and Fitness Resume:\")\n",
    "result = pred(myresume)\n",
    "print(f\"Prediction: {result}\")\n",
    "\n",
    "myresume = \"\"\"\n",
    "John Doe is an experienced Network Security Engineer with over 7 years of expertise in designing, implementing, and managing network security infrastructures. Specializing in safeguarding critical network systems, John has worked with various organizations to protect against cyber threats, data breaches, and unauthorized access. He is proficient in deploying firewalls, intrusion detection systems (IDS), VPNs, and network monitoring tools.\"\"\"\n",
    "\n",
    "print(\"\\nNetwork Security Resume:\")\n",
    "result = pred(myresume)\n",
    "print(f\"Prediction: {result}\")"
   ]
  },
  {
   "cell_type": "code",
   "execution_count": 6,
   "id": "3ab3c9c5",
   "metadata": {},
   "outputs": [],
   "source": [
    "# Interactive prediction function\n",
    "def interactive_prediction():\n",
    "    \"\"\"\n",
    "    Interactive function to predict resume categories\n",
    "    \"\"\"\n",
    "    print(\"🎯 INTERACTIVE RESUME CATEGORY PREDICTOR\")\n",
    "    print(\"=\"*45)\n",
    "    print(\"Enter a resume text to predict its category.\")\n",
    "    print(\"Type 'quit' to exit.\\n\")\n",
    "    \n",
    "    while True:\n",
    "        user_input = input(\"Enter resume text: \")\n",
    "        \n",
    "        if user_input.lower() == 'quit':\n",
    "            print(\"👋 Goodbye!\")\n",
    "            break\n",
    "        \n",
    "        if user_input.strip() == \"\":\n",
    "            print(\"⚠️  Please enter some text.\")\n",
    "            continue\n",
    "        \n",
    "        category = pred(user_input)\n",
    "        print(f\"\\n📊 Prediction Result:\")\n",
    "        print(f\"   Category: {category}\\n\")\n",
    "        print(\"-\" * 40)\n",
    "\n",
    "# Uncomment the line below to run interactive mode\n",
    "# interactive_prediction()"
   ]
  },
  {
   "cell_type": "code",
   "execution_count": null,
   "id": "e1fc1d9f",
   "metadata": {},
   "outputs": [],
   "source": []
  }
 ],
 "metadata": {
  "kernelspec": {
   "display_name": "Resume Analyser (3.12.7)",
   "language": "python",
   "name": "python3"
  },
  "language_info": {
   "codemirror_mode": {
    "name": "ipython",
    "version": 3
   },
   "file_extension": ".py",
   "mimetype": "text/x-python",
   "name": "python",
   "nbconvert_exporter": "python",
   "pygments_lexer": "ipython3",
   "version": "3.12.7"
  }
 },
 "nbformat": 4,
 "nbformat_minor": 5
}
